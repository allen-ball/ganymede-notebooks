{
 "cells": [
  {
   "cell_type": "markdown",
   "metadata": {},
   "source": [
    "# Covid-19 Data Analysis"
   ]
  },
  {
   "cell_type": "markdown",
   "metadata": {},
   "source": [
    "## Data Source\n",
    "\n",
    "Source data for this notebook may be found on [GitHub](https://github.com/) at\n",
    "[covid-19](https://github.com/datasets/covid-19.git).  Additional data may\n",
    "be found from the [NY Times](https://github.com/nytimes/covid-19-data.git)."
   ]
  },
  {
   "cell_type": "code",
   "execution_count": 1,
   "metadata": {},
   "outputs": [
    {
     "name": "stdout",
     "output_type": "stream",
     "text": [
      "Already up to date.\n",
      "commit 1136cb591ef541f968b68ff4db7c6d3b432e70a1\n",
      "Author: GitHub Action <action@github.com>\n",
      "Date:   Sun Jun 13 06:11:09 2021 +0000\n",
      "\n",
      "    Auto-update of the data packages\n"
     ]
    }
   ],
   "source": [
    "%%bash\n",
    "if [ ! -d covid-19 ]; then\n",
    "    git clone https://github.com/datasets/covid-19.git\n",
    "    (cd covid-19; git config pull.rebase false)\n",
    "else\n",
    "    (cd covid-19; git pull)\n",
    "fi\n",
    "\n",
    "(cd covid-19; git log -n 1)"
   ]
  },
  {
   "cell_type": "code",
   "execution_count": 2,
   "metadata": {},
   "outputs": [
    {
     "name": "stdout",
     "output_type": "stream",
     "text": [
      "countries-aggregated.csv\n",
      "key-countries-pivoted.csv\n",
      "reference.csv\n",
      "time-series-19-covid-combined.csv\n",
      "us_confirmed.csv\n",
      "us_deaths.csv\n",
      "us_simplified.csv\n",
      "worldwide-aggregate.csv\n"
     ]
    }
   ],
   "source": [
    "%%bash\n",
    "ls covid-19/data"
   ]
  },
  {
   "cell_type": "markdown",
   "metadata": {},
   "source": [
    "# Dependencies"
   ]
  },
  {
   "cell_type": "code",
   "execution_count": 3,
   "metadata": {},
   "outputs": [],
   "source": [
    "%%pom\n",
    "---\n",
    "dependencies:\n",
    "- org.knowm.xchart:xchart:3.8.0"
   ]
  },
  {
   "cell_type": "markdown",
   "metadata": {},
   "source": [
    "## Spark"
   ]
  },
  {
   "cell_type": "code",
   "execution_count": 4,
   "metadata": {},
   "outputs": [
    {
     "data": {
      "text/html": [
       "\n",
       "<div>\n",
       "  <a href=\"http://10.0.1.2:4040\" target=\"_newtab\">\n",
       "    local\n",
       "    covid-19\n",
       "  </a>\n",
       "</div>\n"
      ]
     },
     "metadata": {},
     "output_type": "display_data"
    }
   ],
   "source": [
    "%%scala\n",
    "import org.apache.spark.sql._\n",
    "import org.apache.spark.sql.functions._\n",
    "import org.apache.spark.sql.types._\n",
    "\n",
    "val session = SparkSession.builder().master(\"local\").appName(\"covid-19\").getOrCreate()\n",
    "    \n",
    "import session.implicits._\n",
    "\n",
    "display(session);"
   ]
  },
  {
   "cell_type": "code",
   "execution_count": 5,
   "metadata": {},
   "outputs": [],
   "source": [
    "%%scala\n",
    "val reader = session.read.format(\"csv\").option(\"header\", \"true\").option(\"inferSchema\", \"true\")\n",
    "\n",
    "val countries_aggregated = reader.load(\"covid-19/data/countries-aggregated.csv\")\n",
    "  .withColumn(\"Date\", $\"Date\".cast(DateType))\n",
    "val key_countries_pivoted = reader.load(\"covid-19/data/key-countries-pivoted.csv\")\n",
    "  .withColumn(\"Date\", $\"Date\".cast(DateType))\n",
    "val reference = reader.load(\"covid-19/data/reference.csv\")\n",
    "val time_series_19_covid_combined = reader.load(\"covid-19/data/time-series-19-covid-combined.csv\")\n",
    "  .withColumn(\"Date\", $\"Date\".cast(DateType))\n",
    "val us_confirmed = reader.load(\"covid-19/data/us_confirmed.csv\")\n",
    "  .withColumn(\"Date\", $\"Date\".cast(DateType))\n",
    "val us_deaths = reader.load(\"covid-19/data/us_deaths.csv\")\n",
    "  .withColumn(\"Date\", $\"Date\".cast(DateType))\n",
    "val us_simplified = reader.load(\"covid-19/data/us_simplified.csv\")\n",
    "  .withColumn(\"Date\", $\"Date\".cast(DateType))\n",
    "val worldwide_aggregate = reader.load(\"covid-19/data/worldwide-aggregate.csv\")\n",
    "  .withColumn(\"Date\", $\"Date\".cast(DateType))"
   ]
  },
  {
   "cell_type": "code",
   "execution_count": 6,
   "metadata": {},
   "outputs": [
    {
     "name": "stdout",
     "output_type": "stream",
     "text": [
      "root\n",
      " |-- Date: date (nullable = true)\n",
      " |-- Admin2: string (nullable = true)\n",
      " |-- Province/State: string (nullable = true)\n",
      " |-- Confirmed: integer (nullable = true)\n",
      " |-- Deaths: integer (nullable = true)\n",
      " |-- Country/Region: string (nullable = true)\n",
      "\n"
     ]
    }
   ],
   "source": [
    "%%scala\n",
    "Console.withOut(System.out) { us_simplified.printSchema }"
   ]
  },
  {
   "cell_type": "code",
   "execution_count": 7,
   "metadata": {},
   "outputs": [
    {
     "name": "stdout",
     "output_type": "stream",
     "text": [
      "+----------+-------+--------------+---------+------+--------------+\n",
      "|      Date| Admin2|Province/State|Confirmed|Deaths|Country/Region|\n",
      "+----------+-------+--------------+---------+------+--------------+\n",
      "|2020-01-22|Autauga|       Alabama|        0|     0|            US|\n",
      "|2020-01-23|Autauga|       Alabama|        0|     0|            US|\n",
      "|2020-01-24|Autauga|       Alabama|        0|     0|            US|\n",
      "|2020-01-25|Autauga|       Alabama|        0|     0|            US|\n",
      "|2020-01-26|Autauga|       Alabama|        0|     0|            US|\n",
      "|2020-01-27|Autauga|       Alabama|        0|     0|            US|\n",
      "|2020-01-28|Autauga|       Alabama|        0|     0|            US|\n",
      "|2020-01-29|Autauga|       Alabama|        0|     0|            US|\n",
      "|2020-01-30|Autauga|       Alabama|        0|     0|            US|\n",
      "|2020-01-31|Autauga|       Alabama|        0|     0|            US|\n",
      "|2020-02-01|Autauga|       Alabama|        0|     0|            US|\n",
      "|2020-02-02|Autauga|       Alabama|        0|     0|            US|\n",
      "|2020-02-03|Autauga|       Alabama|        0|     0|            US|\n",
      "|2020-02-04|Autauga|       Alabama|        0|     0|            US|\n",
      "|2020-02-05|Autauga|       Alabama|        0|     0|            US|\n",
      "|2020-02-06|Autauga|       Alabama|        0|     0|            US|\n",
      "|2020-02-07|Autauga|       Alabama|        0|     0|            US|\n",
      "|2020-02-08|Autauga|       Alabama|        0|     0|            US|\n",
      "|2020-02-09|Autauga|       Alabama|        0|     0|            US|\n",
      "|2020-02-10|Autauga|       Alabama|        0|     0|            US|\n",
      "|2020-02-11|Autauga|       Alabama|        0|     0|            US|\n",
      "|2020-02-12|Autauga|       Alabama|        0|     0|            US|\n",
      "|2020-02-13|Autauga|       Alabama|        0|     0|            US|\n",
      "|2020-02-14|Autauga|       Alabama|        0|     0|            US|\n",
      "|2020-02-15|Autauga|       Alabama|        0|     0|            US|\n",
      "|2020-02-16|Autauga|       Alabama|        0|     0|            US|\n",
      "|2020-02-17|Autauga|       Alabama|        0|     0|            US|\n",
      "|2020-02-18|Autauga|       Alabama|        0|     0|            US|\n",
      "|2020-02-19|Autauga|       Alabama|        0|     0|            US|\n",
      "|2020-02-20|Autauga|       Alabama|        0|     0|            US|\n",
      "|2020-02-21|Autauga|       Alabama|        0|     0|            US|\n",
      "|2020-02-22|Autauga|       Alabama|        0|     0|            US|\n",
      "|2020-02-23|Autauga|       Alabama|        0|     0|            US|\n",
      "|2020-02-24|Autauga|       Alabama|        0|     0|            US|\n",
      "|2020-02-25|Autauga|       Alabama|        0|     0|            US|\n",
      "|2020-02-26|Autauga|       Alabama|        0|     0|            US|\n",
      "|2020-02-27|Autauga|       Alabama|        0|     0|            US|\n",
      "|2020-02-28|Autauga|       Alabama|        0|     0|            US|\n",
      "|2020-02-29|Autauga|       Alabama|        0|     0|            US|\n",
      "|2020-03-01|Autauga|       Alabama|        0|     0|            US|\n",
      "+----------+-------+--------------+---------+------+--------------+\n",
      "only showing top 40 rows\n",
      "\n"
     ]
    }
   ],
   "source": [
    "%%scala\n",
    "Console.withOut(System.out) { us_simplified.show(40) }"
   ]
  },
  {
   "cell_type": "code",
   "execution_count": 8,
   "metadata": {},
   "outputs": [
    {
     "name": "stdout",
     "output_type": "stream",
     "text": [
      "+--------------+--------------+------+\n",
      "|Country/Region|Province/State|Deaths|\n",
      "+--------------+--------------+------+\n",
      "|            US|    California| 24440|\n",
      "|            US|      New York| 10450|\n",
      "|            US|      Illinois| 10419|\n",
      "|            US|       Arizona| 10150|\n",
      "|            US|         Texas|  6503|\n",
      "|            US|       Florida|  6472|\n",
      "|            US|      Michigan|  5113|\n",
      "|            US|        Nevada|  4440|\n",
      "|            US| Massachusetts|  3770|\n",
      "|            US|  Pennsylvania|  3726|\n",
      "|            US|    New Jersey|  3003|\n",
      "|            US|   Puerto Rico|  2530|\n",
      "|            US|   Connecticut|  2431|\n",
      "|            US|      Missouri|  2258|\n",
      "|            US|          Ohio|  2204|\n",
      "|            US|  Rhode Island|  1987|\n",
      "|            US|       Indiana|  1775|\n",
      "|            US|     Minnesota|  1769|\n",
      "|            US|     Tennessee|  1671|\n",
      "|            US|      Maryland|  1666|\n",
      "+--------------+--------------+------+\n",
      "only showing top 20 rows\n",
      "\n"
     ]
    }
   ],
   "source": [
    "%%scala\n",
    "var by_state = us_simplified\n",
    "  .groupBy(\"Country/Region\", \"Province/State\")\n",
    "  .agg(max(\"Deaths\").as(\"Deaths\"))\n",
    "  .orderBy(desc(\"Deaths\"))\n",
    "\n",
    "Console.withOut(System.out) { by_state.show }"
   ]
  },
  {
   "cell_type": "code",
   "execution_count": 9,
   "metadata": {},
   "outputs": [
    {
     "name": "stdout",
     "output_type": "stream",
     "text": [
      "+--------------------+------+\n",
      "|      Country/Region|Deaths|\n",
      "+--------------------+------+\n",
      "|                  US|599664|\n",
      "|              Brazil|486272|\n",
      "|               India|369680|\n",
      "|              Mexico|230097|\n",
      "|                Peru|188100|\n",
      "|      United Kingdom|127896|\n",
      "|               Italy|126976|\n",
      "|              Russia|123961|\n",
      "|              France|109503|\n",
      "|            Colombia| 95192|\n",
      "|             Germany| 89841|\n",
      "|           Argentina| 85075|\n",
      "|                Iran| 81911|\n",
      "|               Spain| 80501|\n",
      "|              Poland| 74562|\n",
      "|        South Africa| 57706|\n",
      "|             Ukraine| 53758|\n",
      "|           Indonesia| 52730|\n",
      "|              Turkey| 48668|\n",
      "|             Romania| 31804|\n",
      "|               Chile| 30579|\n",
      "|             Czechia| 30224|\n",
      "|             Hungary| 29904|\n",
      "|             Belgium| 25081|\n",
      "|         Philippines| 22652|\n",
      "|            Pakistan| 21633|\n",
      "|             Ecuador| 21018|\n",
      "|            Bulgaria| 17898|\n",
      "|         Netherlands| 17709|\n",
      "|            Portugal| 17045|\n",
      "|                Iraq| 16690|\n",
      "|               Egypt| 15582|\n",
      "|             Bolivia| 15485|\n",
      "|              Sweden| 14574|\n",
      "|               Japan| 13991|\n",
      "|             Tunisia| 13436|\n",
      "|          Bangladesh| 13071|\n",
      "|            Slovakia| 12436|\n",
      "|              Greece| 12402|\n",
      "|              Canada| 11170|\n",
      "|         Switzerland| 10859|\n",
      "|            Paraguay| 10699|\n",
      "|             Austria| 10652|\n",
      "|              Jordan|  9530|\n",
      "|Bosnia and Herzeg...|  9479|\n",
      "|             Morocco|  9207|\n",
      "|           Guatemala|  8439|\n",
      "|               Nepal|  8366|\n",
      "|             Croatia|  8132|\n",
      "|             Lebanon|  7790|\n",
      "|        Saudi Arabia|  7553|\n",
      "|              Serbia|  6958|\n",
      "|            Honduras|  6606|\n",
      "|              Panama|  6439|\n",
      "|              Israel|  6428|\n",
      "|             Moldova|  6152|\n",
      "|     North Macedonia|  5471|\n",
      "|             Georgia|  5034|\n",
      "|             Uruguay|  4956|\n",
      "|          Azerbaijan|  4953|\n",
      "|             Ireland|  4941|\n",
      "|               China|  4512|\n",
      "|             Armenia|  4482|\n",
      "|            Slovenia|  4401|\n",
      "|           Lithuania|  4335|\n",
      "|          Costa Rica|  4322|\n",
      "|            Ethiopia|  4237|\n",
      "|            Malaysia|  3844|\n",
      "|  Dominican Republic|  3705|\n",
      "|             Algeria|  3565|\n",
      "|  West Bank and Gaza|  3524|\n",
      "|          Kazakhstan|  3487|\n",
      "|         Afghanistan|  3449|\n",
      "|               Kenya|  3396|\n",
      "|               Burma|  3241|\n",
      "|               Libya|  3158|\n",
      "|             Belarus|  2969|\n",
      "|           Venezuela|  2814|\n",
      "|               Sudan|  2719|\n",
      "|             Denmark|  2525|\n",
      "|                Oman|  2467|\n",
      "|             Albania|  2453|\n",
      "|              Latvia|  2451|\n",
      "|         El Salvador|  2292|\n",
      "|              Kosovo|  2252|\n",
      "|             Nigeria|  2117|\n",
      "|           Sri Lanka|  2073|\n",
      "|        Korea, South|  1985|\n",
      "|          Kyrgyzstan|  1881|\n",
      "|              Kuwait|  1817|\n",
      "|               Syria|  1808|\n",
      "|United Arab Emirates|  1724|\n",
      "|            Zimbabwe|  1632|\n",
      "|          Montenegro|  1598|\n",
      "|            Thailand|  1431|\n",
      "|              Zambia|  1365|\n",
      "|               Yemen|  1347|\n",
      "|            Cameroon|  1310|\n",
      "|             Estonia|  1266|\n",
      "|             Bahrain|  1206|\n",
      "+--------------------+------+\n",
      "only showing top 100 rows\n",
      "\n"
     ]
    }
   ],
   "source": [
    "%%scala\n",
    "var dates = time_series_19_covid_combined.select(\"Date\").distinct().orderBy(asc(\"Date\"))\n",
    "var interval = dates.agg(min(\"Date\"), max(\"Date\")).head\n",
    "var snapshot = time_series_19_covid_combined\n",
    "  .filter($\"Date\" <= interval.get(1))\n",
    "  .groupBy($\"Country/Region\")\n",
    "  .agg(max($\"Deaths\").as(\"Deaths\"))\n",
    "  .orderBy(desc(\"Deaths\"))\n",
    "\n",
    "Console.withOut(System.out) { snapshot.show(100) }"
   ]
  },
  {
   "cell_type": "code",
   "execution_count": 10,
   "metadata": {},
   "outputs": [],
   "source": [
    "%%scala\n",
    "val (countries, deaths) = snapshot.collect.map(r => (r(0).toString, r(1).toString.toInt)).toList.unzip"
   ]
  },
  {
   "cell_type": "code",
   "execution_count": 11,
   "metadata": {},
   "outputs": [
    {
     "data": {
      "image/png": "[encoded data removed]"
     },
     "execution_count": 11,
     "metadata": {
      "image/png": {
       "height": 600,
       "width": 800
      }
     },
     "output_type": "execute_result"
    }
   ],
   "source": [
    "%%scala\n",
    "import org.knowm.xchart._\n",
    "\n",
    "var chart = new PieChartBuilder().width(800).height(600).build()\n",
    "\n",
    "snapshot.collect.slice(0, 10).foreach(r => chart.addSeries(r(0).toString, r(1).toString.toInt))\n",
    "\n",
    "print(chart)"
   ]
  }
 ],
 "metadata": {
  "kernelspec": {
   "display_name": "Ganymede 1.0.0.20210422 (Java 11) with Spark 3.1.1",
   "language": "java",
   "name": "ganymede-1.0.0.20210422-java-11-spark-3.1.1"
  },
  "language_info": {
   "file_extension": ".java",
   "mimetype": "text/x-java",
   "name": "java",
   "version": "11"
  },
  "name": "covid-19-scala.ipynb"
 },
 "nbformat": 4,
 "nbformat_minor": 4
}
