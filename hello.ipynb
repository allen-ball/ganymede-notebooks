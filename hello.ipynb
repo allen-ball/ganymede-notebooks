{
 "cells": [
  {
   "cell_type": "code",
   "execution_count": 1,
   "id": "executive-helena",
   "metadata": {},
   "outputs": [
    {
     "name": "stdout",
     "output_type": "stream",
     "text": [
      "Hello, World\n"
     ]
    }
   ],
   "source": [
    "var greeting = \"Hello, World\";\n",
    "\n",
    "System.out.println(greeting);"
   ]
  },
  {
   "cell_type": "code",
   "execution_count": 2,
   "id": "banner-harbor",
   "metadata": {},
   "outputs": [
    {
     "data": {
      "text/plain": [
       "Hello, World"
      ]
     },
     "execution_count": 2,
     "metadata": {},
     "output_type": "execute_result"
    }
   ],
   "source": [
    "%%java\n",
    "print(greeting);"
   ]
  },
  {
   "cell_type": "code",
   "execution_count": 3,
   "id": "junior-angle",
   "metadata": {},
   "outputs": [
    {
     "name": "stdout",
     "output_type": "stream",
     "text": [
      "Hello, World\n"
     ]
    }
   ],
   "source": [
    "%%groovy\n",
    "println greeting;"
   ]
  },
  {
   "cell_type": "code",
   "execution_count": 4,
   "id": "quarterly-intention",
   "metadata": {},
   "outputs": [
    {
     "name": "stdout",
     "output_type": "stream",
     "text": [
      "Hello, World\n"
     ]
    },
    {
     "name": "stderr",
     "output_type": "stream",
     "text": [
      "Warning: Nashorn engine is planned to be removed from a future JDK release\n"
     ]
    }
   ],
   "source": [
    "%%js\n",
    "print(greeting);"
   ]
  },
  {
   "cell_type": "code",
   "execution_count": 5,
   "id": "separate-porcelain",
   "metadata": {},
   "outputs": [
    {
     "name": "stdout",
     "output_type": "stream",
     "text": [
      "Hello, World\n"
     ]
    }
   ],
   "source": [
    "%%kotlin\n",
    "println(greeting)"
   ]
  },
  {
   "cell_type": "code",
   "execution_count": 6,
   "id": "64e33c0c",
   "metadata": {},
   "outputs": [],
   "source": [
    "%%pom\n",
    "dependencies:\n",
    "- org.scala-lang:scala-compiler:2.12.10\n",
    "- org.scala-lang:scala-library:2.12.10"
   ]
  },
  {
   "cell_type": "code",
   "execution_count": 7,
   "id": "suspended-biology",
   "metadata": {},
   "outputs": [
    {
     "name": "stdout",
     "output_type": "stream",
     "text": [
      "Hello, World\n"
     ]
    }
   ],
   "source": [
    "%%scala\n",
    "Console.withOut(System.out) { Console.withErr(System.err) { println($ctx.greeting) } }"
   ]
  },
  {
   "cell_type": "code",
   "execution_count": 8,
   "id": "b6869101",
   "metadata": {},
   "outputs": [
    {
     "data": {
      "text/html": [
       "\n",
       "<div>\n",
       "  <style scoped>\n",
       "    .bindings thead th {\n",
       "      text-align: center;\n",
       "    }\n",
       "\n",
       "    .bindings tbody tr th {\n",
       "      vertical-align: top;\n",
       "    }\n",
       "\n",
       "    .bindings tbody td {\n",
       "      text-align: left;\n",
       "    }\n",
       "  </style>\n",
       "  <table border=\"1\" class=\"bindings\">\n",
       "    <thead>\n",
       "      <tr><th>Name</th><th>Type</th><th>Value</th></tr>\n",
       "    </thead>\n",
       "    <tbody>\n",
       "      <tr>\n",
       "        <td>$$</td><td>ganymede.notebook.NotebookContext</td><td>NotebookContext(super=ganymede.notebook.NotebookContext@5555ffcf)</td>\n",
       "      </tr>\n",
       "      <tr>\n",
       "        <td>greeting</td><td>String</td><td>Hello, World</td>\n",
       "      </tr>\n",
       "      <tr>\n",
       "        <td>kotlin.script.engine</td><td></td><td>kotlin.script.experimental.jvmhost.jsr223.KotlinJsr223ScriptEngineImpl@9352d2f</td>\n",
       "      </tr>\n",
       "      <tr>\n",
       "        <td>kotlin.script.state</td><td></td><td>org.jetbrains.kotlin.cli.common.repl.AggregatedReplStageState@3a40bb52</td>\n",
       "      </tr>\n",
       "      <tr>\n",
       "        <td>nashorn.global</td><td></td><td>[object global]</td>\n",
       "      </tr>\n",
       "    </tbody>\n",
       "  </table>\n",
       "</div>\n"
      ],
      "text/plain": [
       "$$\tganymede.notebook.NotebookContext\tNotebookContext(super=ganymede.notebook.NotebookContext@5555ffcf)\n",
       "greeting\tString\tHello, World\n",
       "kotlin.script.engine\t\tkotlin.script.experimental.jvmhost.jsr223.KotlinJsr223ScriptEngineImpl@9352d2f\n",
       "kotlin.script.state\t\torg.jetbrains.kotlin.cli.common.repl.AggregatedReplStageState@3a40bb52\n",
       "nashorn.global\t\t[object global]\n",
       "\n"
      ]
     },
     "metadata": {},
     "output_type": "display_data"
    }
   ],
   "source": [
    "%%java"
   ]
  }
 ],
 "metadata": {
  "kernelspec": {
   "display_name": "Ganymede 1.1.0.20210614 (Java 11)",
   "language": "java",
   "name": "ganymede-1.1.0.20210614-java-11"
  },
  "language_info": {
   "file_extension": ".java",
   "mimetype": "text/x-java",
   "name": "java",
   "version": "11"
  },
  "name": "ganymede.ipynb"
 },
 "nbformat": 4,
 "nbformat_minor": 5
}
